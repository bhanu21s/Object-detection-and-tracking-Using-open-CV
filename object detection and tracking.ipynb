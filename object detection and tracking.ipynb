{
 "cells": [
  {
   "cell_type": "code",
   "execution_count": null,
   "id": "63ee9d42",
   "metadata": {},
   "outputs": [],
   "source": [
    "import pandas as pd\n",
    "import numpy as np\n",
    "import numpy as np\n",
    "import matplotlib.pyplot as plt\n",
    "import cv2"
   ]
  },
  {
   "cell_type": "code",
   "execution_count": null,
   "id": "0987b47d",
   "metadata": {},
   "outputs": [],
   "source": [
    "def ICV_rgb2gray(img): #defining a function that takes the image and convert it to gray \n",
    "    \n",
    "    img_gray = np.zeros((img.shape[0],img.shape[1])) #creating an empty image\n",
    "    \n",
    "    for i in range(img_gray.shape[0]):\n",
    "        for j in range(img_gray.shape[1]):\n",
    "            img_gray[i][j] = int(0.2989 * img[i][j][0] + 0.5870 * img[i][j][1] + 0.1140 * img[i][j][2]) #coverting into gray by multiplying pixel of input to some weights\n",
    "\n",
    "    return img_gray"
   ]
  },
  {
   "cell_type": "code",
   "execution_count": null,
   "id": "e7d53f12",
   "metadata": {},
   "outputs": [],
   "source": [
    "\n",
    "def ICV_blur(image, kernel):\n",
    "\n",
    "    # Gather Shapes of the Image \n",
    "    image_h=image.shape[0]\n",
    "    image_w=image.shape[1]\n",
    "    \n",
    "    \n",
    "    #shape of the kernel\n",
    "    kernel_h=kernel.shape[0]\n",
    "    kernel_w=kernel.shape[1]\n",
    "    \n",
    "    \n",
    "    h=kernel_h//2         #it will give the integer value of the central pixel of kernel matrix   \n",
    "    w=kernel_w//2\n",
    "   \n",
    "    \n",
    "    #taking the same shape of our image with the zeroes value\n",
    "    image_conv=np.zeros([image_h - h+ 1, image_w - w +1,3], dtype = np.uint8)\n",
    "    \n",
    "\n",
    "    \n",
    "    for i in range(h,image_h-h):  #this for loop will iterates within the image matrix\n",
    "        for j in range(w,image_w-w):\n",
    "            #for k in range(image.shape[2]):\n",
    "                output = np.sum(image[i-h:i+h+1,j-w:j+w+1] * kernel) / (kernel_h*kernel_w)\n",
    "                if output<0:\n",
    "                    output = 0\n",
    "                elif output  > 255:\n",
    "                    output = 255\n",
    "                image_conv[i][j] = output  #here we will be getting convolved pixeled value as a sum\n",
    "    return image_conv\n",
    "\n",
    "kernel=(1/3)*np.array([[1,2,1],[2,4,2],[1,2,1]]) #gaussian"
   ]
  },
  {
   "cell_type": "code",
   "execution_count": null,
   "id": "19927c3d",
   "metadata": {},
   "outputs": [],
   "source": [
    "cap = cv2.VideoCapture('DatasetC.avi')    #reading video from the data set C\n",
    "\n",
    "frames = [] \n",
    "count = 0\n",
    "while(cap.isOpened):                     #its an open loop which will continue untill there is value in the ret variable\n",
    "    ret, frame = cap.read()              #TO READ EACH FRAMES\n",
    "    if ret==True:\n",
    "        frames.append(ICV_rgb2gray(frame)) #adding converted gray frames to the frames\n",
    "    else:\n",
    "        break\n",
    "        \n",
    "cap.release()                            # to release all the frames that have captured\n",
    "cv2.destroyAllWindows()                  # to close the multiple frmae window that has opened while running \n"
   ]
  },
  {
   "cell_type": "code",
   "execution_count": null,
   "id": "24c90793",
   "metadata": {
    "scrolled": true
   },
   "outputs": [],
   "source": [
    "frames                                  #printing the frames array to check the frames"
   ]
  },
  {
   "cell_type": "markdown",
   "id": "5b7de24f",
   "metadata": {},
   "source": [
    "# 5(a)"
   ]
  },
  {
   "cell_type": "markdown",
   "id": "f1489de3",
   "metadata": {},
   "source": [
    "Write a function that performs pixel-by-pixel frame differencing using, as reference frame, the first\n",
    "frame of an image sequence. Apply a classification threshold and save the results.\n"
   ]
  },
  {
   "cell_type": "code",
   "execution_count": null,
   "id": "d049d373",
   "metadata": {},
   "outputs": [],
   "source": [
    "def ICV_diff(fram1, fram2):          #defining a function to find diffrence between two frames\n",
    "    differ = np.zeros((fram1.shape[0],fram1.shape[1]))   #creating an empty image for diffence\n",
    "    thres = np.zeros((fram1.shape[0],fram1.shape[1]))    #creating an empty image for the threshold\n",
    "    \n",
    "    for i in range(differ.shape[0]):\n",
    "        for j in range(differ.shape[1]):\n",
    "            differ[i][j] = np.abs(fram2[i][j] - fram1[i][j])  #calculating the diffrence and finding the absolute value\n",
    "    \n",
    "    for i in range(thres.shape[0]):\n",
    "        for j in range(thres.shape[1]):\n",
    "            if differ[i][j] > 100 :                        #cheking if diffrence is greater than 100 then threshold is one otherwise zero\n",
    "                thres[i][j] = 1\n",
    "            else:\n",
    "                thres[i][j] = 0\n",
    "             \n",
    "            \n",
    "    return differ, thres\n",
    "        "
   ]
  },
  {
   "cell_type": "code",
   "execution_count": null,
   "id": "ac71d0cd",
   "metadata": {},
   "outputs": [],
   "source": [
    "for i in range(1,len(frames)):        \n",
    "    differ,tres = ICV_diff(frames[0], frames[i]) #calculating the diffrence between frame 0 and any frame\n",
    "    \n",
    "    \n",
    "    plt.imshow(differ,cmap='gray')          #plotting diffrence in gray scale\n",
    "    plt.show()\n",
    "    \n",
    "    plt.imshow(tres,cmap='gray')           #plotting threshold in gray scale\n",
    "    plt.show()"
   ]
  },
  {
   "cell_type": "markdown",
   "id": "417fe23c",
   "metadata": {},
   "source": [
    "# 5(b)"
   ]
  },
  {
   "cell_type": "markdown",
   "id": "1d758829",
   "metadata": {},
   "source": [
    "Repeat the exercise using the previous frame as reference frame (use frame It-1 as reference frame\n",
    "for frame It, for each t)."
   ]
  },
  {
   "cell_type": "code",
   "execution_count": null,
   "id": "ef4c6ab8",
   "metadata": {},
   "outputs": [],
   "source": [
    "for i in range(1,len(frames)):\n",
    "    differ,tres = ICV_diff(frames[i-1], frames[i])   #calculating diffrence between ith frame and (i-1) frame\n",
    "    \n",
    "    plt.imshow(differ,cmap='gray')                   #plotting difffrence in gray \n",
    "    plt.show()\n",
    "    \n",
    "    plt.imshow(tres,cmap='gray')                    #plotting threshold in gray\n",
    "    plt.show()"
   ]
  },
  {
   "cell_type": "markdown",
   "id": "42e528f2",
   "metadata": {},
   "source": [
    "# 5(c)"
   ]
  },
  {
   "cell_type": "markdown",
   "id": "5cce586c",
   "metadata": {},
   "source": [
    "Write a function that generates a reference frame (background) for the sequence using for example\n",
    "frame differencing and a weighted temporal averaging algorithm."
   ]
  },
  {
   "cell_type": "code",
   "execution_count": null,
   "id": "428f8435",
   "metadata": {},
   "outputs": [],
   "source": [
    "def ICV_frame_generate(frames):                    #defining a function for creating a background image\n",
    "    back_ground = frames[0].copy()                 #setting initial frmae as background frame \n",
    "    for i in range(back_ground.shape[0]):\n",
    "        for j in range(back_ground.shape[1]):\n",
    "            for k in frames:\n",
    "                back_ground[i][j] += k[i][j]            #adding the frames to the background     \n",
    "    back_ground[:][:] = back_ground[:][:]/len(frames)  #dividing the background by length of frames\n",
    "    \n",
    "    return back_ground\n",
    "\n",
    "image = ICV_frame_generate(frames)\n",
    "plt.imshow(image,cmap='gray')                    #plotting the background image\n",
    "plt.show()"
   ]
  },
  {
   "cell_type": "markdown",
   "id": "8305db65",
   "metadata": {},
   "source": [
    "# 5(d)"
   ]
  },
  {
   "cell_type": "markdown",
   "id": "9bdbacad",
   "metadata": {},
   "source": [
    "Write a function that counts the number of moving objects in each frame of a sequence. Generate a\n",
    "bar plot that visualizes the number of objects for each frame of the whole sequence"
   ]
  },
  {
   "cell_type": "code",
   "execution_count": null,
   "id": "b00f1a51",
   "metadata": {},
   "outputs": [],
   "source": [
    "def ICV_blurr(image, kernel):  #defining a function that will take image and kernel as input argument\n",
    "\n",
    "\n",
    "    # Gather Shapes of the Image \n",
    "    image_h=image.shape[0]\n",
    "    image_w=image.shape[1]\n",
    "    \n",
    "    \n",
    "    #shape of the kernel\n",
    "    kernel_h=kernel.shape[0]\n",
    "    kernel_w=kernel.shape[1]\n",
    "    \n",
    "    \n",
    "    h=kernel_h//2         #it will give the integer value of the central pixel of kernel matrix   \n",
    "    w=kernel_w//2\n",
    "   \n",
    "    \n",
    "    #taking the same shape of our image with the zeroes value\n",
    "    image_conv=np.zeros([image_h - h+ 1, image_w - w +1,3], dtype = np.uint8)\n",
    "    \n",
    "\n",
    "    \n",
    "    for i in range(h,image_h-h):  #this for loop will iterates within the image matrix\n",
    "        for j in range(w,image_w-w):\n",
    "            for k in range(image.shape[2]):\n",
    "                output = np.sum(image[i-h:i+h+1,j-w:j+w+1,k] * kernel) / (kernel_h*kernel_w)\n",
    "                if output<0:             #setting up the range of pixel between 0-255\n",
    "                    output = 0\n",
    "                elif output  > 255:\n",
    "                    output = 255\n",
    "                image_conv[i][j][k] = output  #here we will be getting convolved pixeled value as a sum\n",
    "    return image_conv\n",
    "x=np.random()\n",
    "kernel= (1/3)*np.array([[1,2,1],[2,4,2],[1,2,1]]) #gaussian"
   ]
  },
  {
   "cell_type": "code",
   "execution_count": null,
   "id": "4f0db32d",
   "metadata": {},
   "outputs": [],
   "source": [
    "\n",
    "\n",
    "cap = cv2.VideoCapture('DatasetC.avi')\n",
    "\n",
    "#Randomly selecting 30 frames\n",
    "frame_get = cap.get(cv2.CAP_PROP_FRAME_COUNT) * np.random.uniform(size = 30)\n",
    "\n",
    "#Storing captured frames in an array\n",
    "frames = []\n",
    "\n",
    "for i in frame_get:\n",
    "  cap.set(cv2.CAP_PROP_POS_FRAMES, i)\n",
    "  ret, frame = cap.read()\n",
    "  frames.append(frame)\n",
    "\n",
    "cap.release()"
   ]
  },
  {
   "cell_type": "code",
   "execution_count": null,
   "id": "495e2973",
   "metadata": {},
   "outputs": [],
   "source": [
    "# kernel for image dilation\n",
    "kernel = np.ones((4,4),np.uint8)\n",
    "\n",
    "# font style\n",
    "font = cv2.FONT_HERSHEY_SIMPLEX\n",
    "\n",
    "# directory to save the ouput frames\n",
    "pathIn = \"contour_frames_3/\"\n",
    "\n",
    "for i in range(len(frames)-1):\n",
    "    \n",
    "    # frame differencing\n",
    "    grayA = ICV_rgb2gray(frames[i])\n",
    "    grayB = ICV_rgb2gray(col_images[i+1])\n",
    "    diff_image = ICV_diff(grayB, grayA)\n",
    "    \n",
    "    # image thresholding\n",
    "    ret, thresh = cv2.threshold(diff_image, 30, 255, cv2.THRESH_BINARY)\n",
    "    \n",
    "    # image dilation\n",
    "    dilated = cv2.dilate(thresh,kernel,iterations = 1)\n",
    "    \n",
    "    # find contours\n",
    "    contours, hierarchy = cv2.findContours(dilated.copy(), cv2.RETR_TREE,cv2.CHAIN_APPROX_NONE)\n",
    "    \n",
    "    # shortlist contours appearing in the detection zone\n",
    "    valid_cntrs = []\n",
    "    for cntr in contours:\n",
    "        x,y,w,h = cv2.boundingRect(cntr)\n",
    "        if (x <= 200) & (y >= 80) & (cv2.contourArea(cntr) >= 25):\n",
    "            if (y >= 90) & (cv2.contourArea(cntr) < 40):\n",
    "                break\n",
    "            valid_cntrs.append(cntr)\n",
    "            \n",
    "    # add contours to original frames\n",
    "    dmy = col_images[i].copy()\n",
    "    cv2.drawContours(dmy, valid_cntrs, -1, (127,200,0), 2)\n",
    "    \n",
    "    cv2.putText(dmy, \"vehicles detected: \" + str(len(valid_cntrs)), (55, 15), font, 0.6, (0, 180, 0), 2)\n",
    "    cv2.line(dmy, (0, 80),(256,80),(100, 255, 255))\n",
    "    cv2.imwrite(pathIn+str(i)+'.png',dmy)  "
   ]
  },
  {
   "cell_type": "code",
   "execution_count": null,
   "id": "098b2f06",
   "metadata": {},
   "outputs": [],
   "source": [
    "bar_plot = dmy #for plotting the bar plot\n",
    "\n",
    "position = np.arrange(len(bp)) #arranging into ascending form\n",
    "plt.bar(position , bar_plot,align='centre') \n",
    "plt.xlabels('number of frames')\n",
    "plt.ylabels('number of moving objects') \n",
    "plt.title('bar plot') #giving titles\n",
    "\n",
    "plt.show()  #plotting bar "
   ]
  },
  {
   "cell_type": "code",
   "execution_count": null,
   "id": "b18af180",
   "metadata": {},
   "outputs": [],
   "source": []
  },
  {
   "cell_type": "code",
   "execution_count": null,
   "id": "4725f0c2",
   "metadata": {},
   "outputs": [],
   "source": []
  }
 ],
 "metadata": {
  "kernelspec": {
   "display_name": "Python 3",
   "language": "python",
   "name": "python3"
  },
  "language_info": {
   "codemirror_mode": {
    "name": "ipython",
    "version": 3
   },
   "file_extension": ".py",
   "mimetype": "text/x-python",
   "name": "python",
   "nbconvert_exporter": "python",
   "pygments_lexer": "ipython3",
   "version": "3.8.8"
  }
 },
 "nbformat": 4,
 "nbformat_minor": 5
}
